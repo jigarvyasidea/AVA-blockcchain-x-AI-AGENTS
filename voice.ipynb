{
 "cells": [
  {
   "cell_type": "code",
   "execution_count": 1,
   "id": "24a485d7",
   "metadata": {},
   "outputs": [],
   "source": [
    "from typing import Annotated\n",
    "from typing_extensions import TypedDict\n",
    "from langgraph.graph.message import add_messages\n",
    "\n",
    "class State(TypedDict):\n",
    "    messages: Annotated[list, add_messages]"
   ]
  },
  {
   "cell_type": "code",
   "execution_count": 2,
   "id": "e4a9be01",
   "metadata": {},
   "outputs": [],
   "source": [
    "from langgraph.checkpoint.memory import MemorySaver\n",
    "\n",
    "memory = MemorySaver()"
   ]
  },
  {
   "cell_type": "code",
   "execution_count": 3,
   "id": "cef2600a",
   "metadata": {},
   "outputs": [],
   "source": [
    "from langchain_core.tools import tool\n",
    "import requests\n",
    "\n",
    "@tool\n",
    "def get_date_and_time() -> dict:\n",
    "    \"\"\"\n",
    "    Call tool to fetch the current date and time from an API.\n",
    "    \"\"\"\n",
    "    try:\n",
    "        response = requests.get(\"https://timeapi.io/api/Time/current/zone?timeZone=Europe/Brussels\")\n",
    "        response.raise_for_status()\n",
    "        data = response.json()\n",
    "        return {\"date_time\": data[\"dateTime\"], \"timezone\": data[\"timeZone\"]}\n",
    "    except requests.RequestException as e:\n",
    "        return {\"error\": str(e)}"
   ]
  },
  {
   "cell_type": "code",
   "execution_count": 4,
   "id": "5225db10",
   "metadata": {},
   "outputs": [],
   "source": [
    "GROQ_API_KEY=\"#\""
   ]
  },
  {
   "cell_type": "code",
   "execution_count": 5,
   "id": "45cf8085",
   "metadata": {},
   "outputs": [],
   "source": [
    "from langchain_groq import ChatGroq\n",
    "\n",
    "llm = ChatGroq(model=\"deepseek-r1-distill-llama-70b\")"
   ]
  },
  {
   "cell_type": "code",
   "execution_count": 6,
   "id": "59496b1a",
   "metadata": {},
   "outputs": [],
   "source": [
    "llm_with_tools = llm.bind_tools([get_date_and_time])\n"
   ]
  },
  {
   "cell_type": "code",
   "execution_count": 9,
   "id": "f316087c",
   "metadata": {},
   "outputs": [],
   "source": [
    "from langgraph.graph import StateGraph\n",
    "from langchain_core.runnables import RunnableConfig\n",
    "\n",
    "def chatbot(state: State, config: RunnableConfig):\n",
    "    return {\"messages\": [llm_with_tools.invoke(state[\"messages\"])]}\n",
    "\n"
   ]
  },
  {
   "cell_type": "code",
   "execution_count": 11,
   "id": "b361c470",
   "metadata": {},
   "outputs": [],
   "source": [
    "# initiate the graph\n",
    "graph_builder = StateGraph(State)\n",
    "graph_builder.add_node(\"chatbot\", chatbot)\n",
    "graph_builder.add_edge(\"chatbot\", \"chatbot\")\n",
    "\n",
    "# ✅ Set entry point\n",
    "graph_builder.set_entry_point(\"chatbot\")\n",
    "\n",
    "# ✅ Now compile\n",
    "graph = graph_builder.compile(checkpointer=memory)\n"
   ]
  }
 ],
 "metadata": {
  "kernelspec": {
   "display_name": "venv",
   "language": "python",
   "name": "python3"
  },
  "language_info": {
   "codemirror_mode": {
    "name": "ipython",
    "version": 3
   },
   "file_extension": ".py",
   "mimetype": "text/x-python",
   "name": "python",
   "nbconvert_exporter": "python",
   "pygments_lexer": "ipython3",
   "version": "3.13.2"
  }
 },
 "nbformat": 4,
 "nbformat_minor": 5
}
